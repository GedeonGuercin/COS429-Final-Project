{
  "cells": [
    {
      "cell_type": "code",
      "execution_count": null,
      "metadata": {
        "id": "lLP2In6PpNnI"
      },
      "outputs": [],
      "source": [
        "# Import libraries\n",
        "import os\n",
        "\n",
        "import numpy as np\n",
        "import torch\n",
        "import torch.nn as nn\n",
        "import torch.nn.functional as F \n",
        "\n",
        "import torch.optim as optim\n",
        "from torch.utils.data import DataLoader, Dataset\n",
        "\n",
        "from torchvision import datasets, transforms, utils\n",
        "\n",
        "import matplotlib.pyplot as plt\n",
        "\n",
        "import datetime\n",
        "from tqdm import tqdm\n",
        "\n",
        "import cv2\n",
        "from cv2 import cvtColor, COLOR_BGR2RGB, COLOR_LAB2RGB"
      ]
    },
    {
      "cell_type": "code",
      "execution_count": null,
      "metadata": {
        "colab": {
          "base_uri": "https://localhost:8080/"
        },
        "id": "HqSEx-NcIVc1",
        "outputId": "79542b27-3d5b-44fe-8f35-37ae4ad02331"
      },
      "outputs": [
        {
          "output_type": "stream",
          "name": "stdout",
          "text": [
            "Drive already mounted at /content/drive; to attempt to forcibly remount, call drive.mount(\"/content/drive\", force_remount=True).\n"
          ]
        }
      ],
      "source": [
        "from google.colab import drive\n",
        "drive.mount('/content/drive')"
      ]
    },
    {
      "cell_type": "code",
      "execution_count": null,
      "metadata": {
        "colab": {
          "base_uri": "https://localhost:8080/"
        },
        "id": "ZjSW8xRrpcRq",
        "outputId": "6ffb337e-d944-425e-ff86-6d8b65cc0b86"
      },
      "outputs": [
        {
          "output_type": "execute_result",
          "data": {
            "text/plain": [
              "device(type='cuda')"
            ]
          },
          "metadata": {},
          "execution_count": 3
        }
      ],
      "source": [
        "# Device configuration\n",
        "device = torch.device('cuda' if torch.cuda.is_available() else 'cpu')\n",
        "device"
      ]
    },
    {
      "cell_type": "markdown",
      "metadata": {
        "id": "2hgRx6IRj7CY"
      },
      "source": [
        "# Loading in data\n"
      ]
    },
    {
      "cell_type": "code",
      "source": [
        "# mean's and sd's\n",
        "train_mean, train_sd = [0.49139968, 0.48215827, 0.44653124], [ 0.24703233, 0.24348505, 0.26158768]\n",
        "\n",
        "# set up training and validation sets\n",
        "cifar_data = datasets.CIFAR10('data', train=True, download = True, \n",
        "                            transform=transforms.Compose([\n",
        "                               transforms.ToTensor(), # scale to values between 0 & 1 first.\n",
        "                               transforms.Normalize( # then, normalize the data so that \n",
        "                                 train_mean, train_sd) # we have mean 0 and sd 1\n",
        "                             ]))"
      ],
      "metadata": {
        "colab": {
          "base_uri": "https://localhost:8080/"
        },
        "id": "EiHLObG9uecE",
        "outputId": "c61386ab-403d-4ef5-c8ff-acbf674c7527"
      },
      "execution_count": null,
      "outputs": [
        {
          "output_type": "stream",
          "name": "stdout",
          "text": [
            "Files already downloaded and verified\n"
          ]
        }
      ]
    },
    {
      "cell_type": "markdown",
      "metadata": {
        "id": "r5U5ocM525V3"
      },
      "source": [
        "# Preprocess the data"
      ]
    },
    {
      "cell_type": "code",
      "source": [
        "from google.colab.patches import cv2_imshow\n",
        "full_dataset = []\n",
        "images_input = []\n",
        "images_output = []\n",
        "for i in range(len(cifar_data.data)):\n",
        "  img = cifar_data.data[i]\n",
        "  scaled = img.astype(\"float32\") / 255.0\n",
        "  lab = cv2.cvtColor(scaled, cv2.COLOR_RGB2LAB)\n",
        "\n",
        "  l, a, b = cv2.split(lab)\n",
        "  a_b = cv2.merge([a, b])\n",
        "\n",
        "  inp = torch.Tensor(l.reshape(1,32,32))\n",
        "  out = torch.Tensor(a_b)\n",
        "\n",
        "  full_dataset.append([inp, torch.permute(out, (2, 0, 1))])\n"
      ],
      "metadata": {
        "id": "xSLF8x4-vI9Y"
      },
      "execution_count": null,
      "outputs": []
    },
    {
      "cell_type": "code",
      "execution_count": null,
      "metadata": {
        "colab": {
          "base_uri": "https://localhost:8080/"
        },
        "id": "GynmIA9KZMt_",
        "outputId": "4a6a4688-79b3-438f-8043-d32c136560df"
      },
      "outputs": [
        {
          "output_type": "stream",
          "name": "stdout",
          "text": [
            "torch.Size([1, 32, 32])\n",
            "torch.Size([2, 32, 32])\n"
          ]
        }
      ],
      "source": [
        "print(full_dataset[0][0].shape)\n",
        "print(full_dataset[0][1].shape)"
      ]
    },
    {
      "cell_type": "code",
      "execution_count": null,
      "metadata": {
        "id": "gym9R7XHNVgG"
      },
      "outputs": [],
      "source": [
        "# split into batches\n",
        "bch_size = 32 # batch size for training\n",
        "val_bch_size = 10 # validation set batch size\n",
        "\n",
        "# number of pictures in the training and validation sets\n",
        "train_size = 45000\n",
        "val_size = 5000"
      ]
    },
    {
      "cell_type": "code",
      "execution_count": null,
      "metadata": {
        "id": "RBs_Jp8XNNIJ"
      },
      "outputs": [],
      "source": [
        "# dataset_images = list(cifar_data)\n",
        "\n",
        "train_data = full_dataset[:train_size] \n",
        "\n",
        "val_data = full_dataset[train_size:(train_size + val_size + 1)] "
      ]
    },
    {
      "cell_type": "code",
      "execution_count": null,
      "metadata": {
        "id": "9jiC8JiNNQsk"
      },
      "outputs": [],
      "source": [
        "train_loader = torch.utils.data.DataLoader(full_dataset, \n",
        "                                           batch_size=bch_size, \n",
        "                                           shuffle=True)\n",
        "val_loader = torch.utils.data.DataLoader(val_data, \n",
        "                                         batch_size=val_bch_size, \n",
        "                                         shuffle=True)"
      ]
    },
    {
      "cell_type": "markdown",
      "metadata": {
        "id": "iHcL8MEukBU7"
      },
      "source": [
        "# The Model"
      ]
    },
    {
      "cell_type": "code",
      "execution_count": null,
      "metadata": {
        "id": "tZWhCJHNphLB"
      },
      "outputs": [],
      "source": [
        "class Color(nn.Module):\n",
        "    def __init__(self):\n",
        "        super(Color, self).__init__()\n",
        "        self.network = nn.Sequential(\n",
        "          nn.Conv2d(1, 64, 3),\n",
        "          nn.MaxPool2d(2, 2),\n",
        "          # nn.BatchNorm2d(64),\n",
        "          \n",
        "          nn.Conv2d(64, 128, 3),\n",
        "          nn.MaxPool2d(2, 2),\n",
        "          # nn.BatchNorm2d(128),\n",
        "          \n",
        "          nn.Conv2d(128, 256, 3),\n",
        "          nn.MaxPool2d(2, 2),\n",
        "          nn.Upsample(scale_factor=2),\n",
        "          # nn.BatchNorm2d(256),\n",
        "\n",
        "          nn.Conv2d(256, 512, 1),\n",
        "          nn.Upsample(scale_factor=2),\n",
        "          nn.BatchNorm2d(512),\n",
        "\n",
        "          nn.Conv2d(512, 256, 3),\n",
        "          nn.MaxPool2d(2, 2),\n",
        "          nn.Upsample(scale_factor=2),\n",
        "          nn.BatchNorm2d(256),\n",
        "\n",
        "          nn.Conv2d(256, 128, 3),\n",
        "          nn.Upsample(scale_factor=2),\n",
        "          nn.BatchNorm2d(128),\n",
        "\n",
        "          nn.Conv2d(128, 64, 3),\n",
        "          nn.Upsample(scale_factor=2),\n",
        "          nn.BatchNorm2d(64),\n",
        "\n",
        "          nn.Conv2d(64, 2, 3)\n",
        "          # nn.Upsample(scale_factor=2)\n",
        "        )\n",
        "        \n",
        "    def forward(self, x):\n",
        "        x = self.network(x)\n",
        "        x = F.interpolate(x, (32,32))\n",
        "        # print(\"shape x:\", x.shape)\n",
        "        \n",
        "        # flattened = x.view(-1, 256*27*27) \n",
        "        # x = F.relu(self.fc1(flattened))\n",
        "        # x = F.relu(self.fc2(x))\n",
        "        # x = self.fc3(x) #cross entropy loss?\n",
        "        return x"
      ]
    },
    {
      "cell_type": "code",
      "execution_count": null,
      "metadata": {
        "colab": {
          "base_uri": "https://localhost:8080/"
        },
        "id": "EownDJNKp3BT",
        "outputId": "26ecded9-58bb-4c11-d34c-6139d1d80326"
      },
      "outputs": [
        {
          "output_type": "stream",
          "name": "stdout",
          "text": [
            "Ex1Net(\n",
            "  (network): Sequential(\n",
            "    (0): Conv2d(1, 64, kernel_size=(3, 3), stride=(1, 1))\n",
            "    (1): MaxPool2d(kernel_size=2, stride=2, padding=0, dilation=1, ceil_mode=False)\n",
            "    (2): Conv2d(64, 128, kernel_size=(3, 3), stride=(1, 1))\n",
            "    (3): MaxPool2d(kernel_size=2, stride=2, padding=0, dilation=1, ceil_mode=False)\n",
            "    (4): Conv2d(128, 256, kernel_size=(3, 3), stride=(1, 1))\n",
            "    (5): MaxPool2d(kernel_size=2, stride=2, padding=0, dilation=1, ceil_mode=False)\n",
            "    (6): Upsample(scale_factor=2.0, mode='nearest')\n",
            "    (7): Conv2d(256, 512, kernel_size=(1, 1), stride=(1, 1))\n",
            "    (8): Upsample(scale_factor=2.0, mode='nearest')\n",
            "    (9): BatchNorm2d(512, eps=1e-05, momentum=0.1, affine=True, track_running_stats=True)\n",
            "    (10): Conv2d(512, 256, kernel_size=(3, 3), stride=(1, 1))\n",
            "    (11): MaxPool2d(kernel_size=2, stride=2, padding=0, dilation=1, ceil_mode=False)\n",
            "    (12): Upsample(scale_factor=2.0, mode='nearest')\n",
            "    (13): BatchNorm2d(256, eps=1e-05, momentum=0.1, affine=True, track_running_stats=True)\n",
            "    (14): Conv2d(256, 128, kernel_size=(3, 3), stride=(1, 1))\n",
            "    (15): Upsample(scale_factor=2.0, mode='nearest')\n",
            "    (16): BatchNorm2d(128, eps=1e-05, momentum=0.1, affine=True, track_running_stats=True)\n",
            "    (17): Conv2d(128, 64, kernel_size=(3, 3), stride=(1, 1))\n",
            "    (18): Upsample(scale_factor=2.0, mode='nearest')\n",
            "    (19): BatchNorm2d(64, eps=1e-05, momentum=0.1, affine=True, track_running_stats=True)\n",
            "    (20): Conv2d(64, 2, kernel_size=(3, 3), stride=(1, 1))\n",
            "  )\n",
            ")\n"
          ]
        }
      ],
      "source": [
        "torch.manual_seed(2023)\n",
        "\n",
        "model = Color()\n",
        "\n",
        "print(model)"
      ]
    },
    {
      "cell_type": "code",
      "execution_count": null,
      "metadata": {
        "colab": {
          "base_uri": "https://localhost:8080/"
        },
        "id": "yDxG-l2XIOZc",
        "outputId": "b73743b9-f720-46f5-ed0c-46267b49e74c"
      },
      "outputs": [
        {
          "output_type": "stream",
          "name": "stdout",
          "text": [
            "torch.Size([0, 2, 32, 32])\n"
          ]
        }
      ],
      "source": [
        "def get_output_shape(model, image_dim):\n",
        "    return model(torch.rand(*(image_dim))).data.shape\n",
        "\n",
        "print(get_output_shape(model, (0,1,32,32))) # sanity check from https://stackoverflow.com/a/62197038"
      ]
    },
    {
      "cell_type": "code",
      "execution_count": null,
      "metadata": {
        "id": "0L8B0UvquPo2"
      },
      "outputs": [],
      "source": [
        "def train(model, criterion, train_loader, val_loader, avg_val_loss, avg_val_acc, train_losses, num_epoch, \n",
        "          lr, bsize, start_epoch = 0):\n",
        "\n",
        "    optimizer = optim.Adam(model.parameters(), lr=lr, momentum=0.9)\n",
        "    \n",
        "    for epoch in range(start_epoch, start_epoch + num_epoch):\n",
        "        model = model.to(device) \n",
        "        model.train() \n",
        "\n",
        "        with tqdm(train_loader, desc=f\"Training Epoch {epoch}\") as t:\n",
        "            trainLoss = []   \n",
        "            for batch_idx, (inputs, labels) in enumerate(t):\n",
        "                inputs, labels = inputs.to(device), labels.to(device)\n",
        "                outputs = model(inputs)\n",
        "                loss = criterion(outputs, labels)\n",
        "\n",
        "                optimizer.zero_grad() # a clean up step for PyTorch\n",
        "                loss.backward() # compute updates for each parameter\n",
        "                optimizer.step() # make the updates for each parameter\n",
        "                \n",
        "                t.set_postfix({'training_loss': loss.item()})\n",
        "                trainLoss.append(loss.item())                         \n",
        "            train_losses.append(np.mean(trainLoss))\n",
        "\n",
        "        val_loss, correct = 0.0, 0\n",
        "        model.eval() # sets the mode for validation\n",
        "        with torch.no_grad():\n",
        "            for inputs, labels in tqdm(val_loader, desc=f\"Validating\"):\n",
        "                inputs, labels = inputs.to(device), labels.to(device)\n",
        "                outputs = model(inputs)\n",
        "                val_loss += criterion(outputs, labels).item() \n",
        "        avg_val_loss.append(val_loss / len(val_loader))\n",
        "    return avg_val_loss, avg_val_acc, train_losses"
      ]
    },
    {
      "cell_type": "code",
      "execution_count": null,
      "metadata": {
        "id": "BsCmrYE0OXRo"
      },
      "outputs": [],
      "source": [
        "random_seed = 2023\n",
        "torch.manual_seed(random_seed)\n",
        "\n",
        "lr = 0.0001\n",
        "criterion = nn.MSE()"
      ]
    },
    {
      "cell_type": "code",
      "execution_count": null,
      "metadata": {
        "colab": {
          "base_uri": "https://localhost:8080/"
        },
        "id": "6N-cGKMpOf2y",
        "outputId": "2c3406ef-4301-493d-b2c2-2b60391f6b24"
      },
      "outputs": [
        {
          "output_type": "stream",
          "name": "stderr",
          "text": [
            "Training Epoch 0: 100%|██████████| 1563/1563 [00:25<00:00, 62.16it/s, training_loss=-5.75e+4] \n",
            "Validating: 100%|██████████| 500/500 [00:00<00:00, 711.35it/s]\n",
            "Training Epoch 1: 100%|██████████| 1563/1563 [00:13<00:00, 113.24it/s, training_loss=1.35e+7]\n",
            "Validating: 100%|██████████| 500/500 [00:00<00:00, 711.04it/s]\n",
            "Training Epoch 2: 100%|██████████| 1563/1563 [00:13<00:00, 113.58it/s, training_loss=5.11]\n",
            "Validating: 100%|██████████| 500/500 [00:00<00:00, 708.70it/s]\n",
            "Training Epoch 3: 100%|██████████| 1563/1563 [00:13<00:00, 113.89it/s, training_loss=5.66]\n",
            "Validating: 100%|██████████| 500/500 [00:00<00:00, 695.81it/s]\n",
            "Training Epoch 4: 100%|██████████| 1563/1563 [00:13<00:00, 112.39it/s, training_loss=9.68]\n",
            "Validating: 100%|██████████| 500/500 [00:00<00:00, 713.26it/s]\n",
            "Training Epoch 5: 100%|██████████| 1563/1563 [00:13<00:00, 114.09it/s, training_loss=1.17]\n",
            "Validating: 100%|██████████| 500/500 [00:00<00:00, 696.19it/s]\n",
            "Training Epoch 6: 100%|██████████| 1563/1563 [00:13<00:00, 114.13it/s, training_loss=11.8]\n",
            "Validating: 100%|██████████| 500/500 [00:00<00:00, 706.26it/s]\n",
            "Training Epoch 7: 100%|██████████| 1563/1563 [00:13<00:00, 111.92it/s, training_loss=1.92]\n",
            "Validating: 100%|██████████| 500/500 [00:00<00:00, 698.87it/s]\n",
            "Training Epoch 8: 100%|██████████| 1563/1563 [00:13<00:00, 112.78it/s, training_loss=5.94]\n",
            "Validating: 100%|██████████| 500/500 [00:00<00:00, 687.20it/s]\n",
            "Training Epoch 9: 100%|██████████| 1563/1563 [00:13<00:00, 111.97it/s, training_loss=0.845]\n",
            "Validating: 100%|██████████| 500/500 [00:00<00:00, 732.29it/s]\n",
            "Training Epoch 10: 100%|██████████| 1563/1563 [00:14<00:00, 111.26it/s, training_loss=6.89]\n",
            "Validating: 100%|██████████| 500/500 [00:01<00:00, 488.97it/s]\n",
            "Training Epoch 11: 100%|██████████| 1563/1563 [00:13<00:00, 111.97it/s, training_loss=0.323]\n",
            "Validating: 100%|██████████| 500/500 [00:00<00:00, 683.71it/s]\n",
            "Training Epoch 12: 100%|██████████| 1563/1563 [00:13<00:00, 111.80it/s, training_loss=3.01]\n",
            "Validating: 100%|██████████| 500/500 [00:00<00:00, 696.81it/s]\n",
            "Training Epoch 13: 100%|██████████| 1563/1563 [00:13<00:00, 113.62it/s, training_loss=5.21]\n",
            "Validating: 100%|██████████| 500/500 [00:00<00:00, 705.91it/s]\n",
            "Training Epoch 14: 100%|██████████| 1563/1563 [00:13<00:00, 112.49it/s, training_loss=3.62]\n",
            "Validating: 100%|██████████| 500/500 [00:00<00:00, 704.24it/s]\n",
            "Training Epoch 15: 100%|██████████| 1563/1563 [00:13<00:00, 112.70it/s, training_loss=4.92]\n",
            "Validating: 100%|██████████| 500/500 [00:00<00:00, 702.54it/s]\n",
            "Training Epoch 16: 100%|██████████| 1563/1563 [00:13<00:00, 111.71it/s, training_loss=4.82]\n",
            "Validating: 100%|██████████| 500/500 [00:00<00:00, 699.43it/s]\n",
            "Training Epoch 17: 100%|██████████| 1563/1563 [00:13<00:00, 112.53it/s, training_loss=7.2]\n",
            "Validating: 100%|██████████| 500/500 [00:00<00:00, 713.83it/s]\n",
            "Training Epoch 18: 100%|██████████| 1563/1563 [00:13<00:00, 111.87it/s, training_loss=7.84]\n",
            "Validating: 100%|██████████| 500/500 [00:00<00:00, 672.74it/s]\n",
            "Training Epoch 19: 100%|██████████| 1563/1563 [00:13<00:00, 113.08it/s, training_loss=9.32]\n",
            "Validating: 100%|██████████| 500/500 [00:00<00:00, 686.93it/s]\n",
            "Training Epoch 20: 100%|██████████| 1563/1563 [00:13<00:00, 111.68it/s, training_loss=4.66]\n",
            "Validating: 100%|██████████| 500/500 [00:00<00:00, 661.44it/s]\n",
            "Training Epoch 21: 100%|██████████| 1563/1563 [00:14<00:00, 109.69it/s, training_loss=4.85]\n",
            "Validating: 100%|██████████| 500/500 [00:00<00:00, 668.20it/s]\n",
            "Training Epoch 22: 100%|██████████| 1563/1563 [00:14<00:00, 111.42it/s, training_loss=2.32]\n",
            "Validating: 100%|██████████| 500/500 [00:00<00:00, 701.32it/s]\n",
            "Training Epoch 23: 100%|██████████| 1563/1563 [00:14<00:00, 111.44it/s, training_loss=6.84]\n",
            "Validating: 100%|██████████| 500/500 [00:00<00:00, 713.64it/s]\n",
            "Training Epoch 24: 100%|██████████| 1563/1563 [00:14<00:00, 110.91it/s, training_loss=5.97]\n",
            "Validating: 100%|██████████| 500/500 [00:00<00:00, 708.49it/s]\n",
            "Training Epoch 25: 100%|██████████| 1563/1563 [00:13<00:00, 112.10it/s, training_loss=3.07]\n",
            "Validating: 100%|██████████| 500/500 [00:00<00:00, 689.65it/s]\n",
            "Training Epoch 26: 100%|██████████| 1563/1563 [00:14<00:00, 111.53it/s, training_loss=7.62]\n",
            "Validating: 100%|██████████| 500/500 [00:00<00:00, 705.73it/s]\n",
            "Training Epoch 27: 100%|██████████| 1563/1563 [00:13<00:00, 111.85it/s, training_loss=3.88]\n",
            "Validating: 100%|██████████| 500/500 [00:00<00:00, 697.88it/s]\n",
            "Training Epoch 28: 100%|██████████| 1563/1563 [00:13<00:00, 111.92it/s, training_loss=2.7]\n",
            "Validating: 100%|██████████| 500/500 [00:00<00:00, 695.03it/s]\n",
            "Training Epoch 29: 100%|██████████| 1563/1563 [00:13<00:00, 112.19it/s, training_loss=5.52]\n",
            "Validating: 100%|██████████| 500/500 [00:00<00:00, 646.74it/s]\n",
            "Training Epoch 30: 100%|██████████| 1563/1563 [00:13<00:00, 111.87it/s, training_loss=2.37]\n",
            "Validating: 100%|██████████| 500/500 [00:00<00:00, 703.18it/s]\n",
            "Training Epoch 31: 100%|██████████| 1563/1563 [00:14<00:00, 111.07it/s, training_loss=6.68]\n",
            "Validating: 100%|██████████| 500/500 [00:00<00:00, 688.64it/s]\n",
            "Training Epoch 32: 100%|██████████| 1563/1563 [00:13<00:00, 112.70it/s, training_loss=4.04]\n",
            "Validating: 100%|██████████| 500/500 [00:00<00:00, 712.48it/s]\n",
            "Training Epoch 33: 100%|██████████| 1563/1563 [00:14<00:00, 110.66it/s, training_loss=5.17]\n",
            "Validating: 100%|██████████| 500/500 [00:00<00:00, 733.38it/s]\n",
            "Training Epoch 34: 100%|██████████| 1563/1563 [00:13<00:00, 111.74it/s, training_loss=1.37]\n",
            "Validating: 100%|██████████| 500/500 [00:00<00:00, 711.26it/s]\n",
            "Training Epoch 35: 100%|██████████| 1563/1563 [00:14<00:00, 110.96it/s, training_loss=6.3]\n",
            "Validating: 100%|██████████| 500/500 [00:00<00:00, 703.00it/s]\n",
            "Training Epoch 36: 100%|██████████| 1563/1563 [00:14<00:00, 111.35it/s, training_loss=6.34]\n",
            "Validating: 100%|██████████| 500/500 [00:00<00:00, 692.58it/s]\n",
            "Training Epoch 37: 100%|██████████| 1563/1563 [00:14<00:00, 110.74it/s, training_loss=3.29]\n",
            "Validating: 100%|██████████| 500/500 [00:00<00:00, 694.67it/s]\n",
            "Training Epoch 38: 100%|██████████| 1563/1563 [00:14<00:00, 111.37it/s, training_loss=1.78]\n",
            "Validating: 100%|██████████| 500/500 [00:00<00:00, 697.56it/s]\n",
            "Training Epoch 39: 100%|██████████| 1563/1563 [00:14<00:00, 109.56it/s, training_loss=0.478]\n",
            "Validating: 100%|██████████| 500/500 [00:00<00:00, 686.93it/s]\n",
            "Training Epoch 40: 100%|██████████| 1563/1563 [00:14<00:00, 110.74it/s, training_loss=3.65]\n",
            "Validating: 100%|██████████| 500/500 [00:00<00:00, 705.36it/s]\n",
            "Training Epoch 41: 100%|██████████| 1563/1563 [00:14<00:00, 108.98it/s, training_loss=4.67]\n",
            "Validating: 100%|██████████| 500/500 [00:00<00:00, 678.97it/s]\n",
            "Training Epoch 42: 100%|██████████| 1563/1563 [00:14<00:00, 108.97it/s, training_loss=3.52]\n",
            "Validating: 100%|██████████| 500/500 [00:00<00:00, 723.37it/s]\n",
            "Training Epoch 43: 100%|██████████| 1563/1563 [00:14<00:00, 110.83it/s, training_loss=3.85]\n",
            "Validating: 100%|██████████| 500/500 [00:00<00:00, 699.25it/s]\n",
            "Training Epoch 44: 100%|██████████| 1563/1563 [00:14<00:00, 111.23it/s, training_loss=7.29]\n",
            "Validating: 100%|██████████| 500/500 [00:00<00:00, 713.00it/s]\n",
            "Training Epoch 45: 100%|██████████| 1563/1563 [00:14<00:00, 109.67it/s, training_loss=3.75]\n",
            "Validating: 100%|██████████| 500/500 [00:00<00:00, 697.05it/s]\n",
            "Training Epoch 46: 100%|██████████| 1563/1563 [00:14<00:00, 109.76it/s, training_loss=2.08]\n",
            "Validating: 100%|██████████| 500/500 [00:00<00:00, 716.74it/s]\n",
            "Training Epoch 47: 100%|██████████| 1563/1563 [00:14<00:00, 109.96it/s, training_loss=0.651]\n",
            "Validating: 100%|██████████| 500/500 [00:00<00:00, 677.37it/s]\n",
            "Training Epoch 48: 100%|██████████| 1563/1563 [00:13<00:00, 111.85it/s, training_loss=4.11]\n",
            "Validating: 100%|██████████| 500/500 [00:00<00:00, 705.13it/s]\n",
            "Training Epoch 49: 100%|██████████| 1563/1563 [00:14<00:00, 110.52it/s, training_loss=6.94]\n",
            "Validating: 100%|██████████| 500/500 [00:00<00:00, 566.71it/s]\n",
            "Training Epoch 50: 100%|██████████| 1563/1563 [00:14<00:00, 110.28it/s, training_loss=2.75]\n",
            "Validating: 100%|██████████| 500/500 [00:00<00:00, 567.53it/s]\n",
            "Training Epoch 51: 100%|██████████| 1563/1563 [00:14<00:00, 111.22it/s, training_loss=4.76]\n",
            "Validating: 100%|██████████| 500/500 [00:00<00:00, 521.71it/s]\n",
            "Training Epoch 52: 100%|██████████| 1563/1563 [00:14<00:00, 108.72it/s, training_loss=6.85]\n",
            "Validating: 100%|██████████| 500/500 [00:00<00:00, 538.51it/s]\n",
            "Training Epoch 53: 100%|██████████| 1563/1563 [00:14<00:00, 110.19it/s, training_loss=2.96]\n",
            "Validating: 100%|██████████| 500/500 [00:00<00:00, 523.16it/s]\n",
            "Training Epoch 54: 100%|██████████| 1563/1563 [00:14<00:00, 110.96it/s, training_loss=9.86]\n",
            "Validating: 100%|██████████| 500/500 [00:00<00:00, 511.38it/s]\n",
            "Training Epoch 55: 100%|██████████| 1563/1563 [00:14<00:00, 111.20it/s, training_loss=-4.98]\n",
            "Validating: 100%|██████████| 500/500 [00:01<00:00, 492.37it/s]\n",
            "Training Epoch 56: 100%|██████████| 1563/1563 [00:14<00:00, 110.88it/s, training_loss=3.39]\n",
            "Validating: 100%|██████████| 500/500 [00:00<00:00, 520.90it/s]\n",
            "Training Epoch 57: 100%|██████████| 1563/1563 [00:14<00:00, 109.78it/s, training_loss=7.46]\n",
            "Validating: 100%|██████████| 500/500 [00:00<00:00, 513.92it/s]\n",
            "Training Epoch 58: 100%|██████████| 1563/1563 [00:14<00:00, 109.38it/s, training_loss=4.21]\n",
            "Validating: 100%|██████████| 500/500 [00:00<00:00, 545.43it/s]\n",
            "Training Epoch 59: 100%|██████████| 1563/1563 [00:13<00:00, 112.31it/s, training_loss=2.03]\n",
            "Validating: 100%|██████████| 500/500 [00:01<00:00, 499.77it/s]\n",
            "Training Epoch 60: 100%|██████████| 1563/1563 [00:14<00:00, 109.94it/s, training_loss=3.31]\n",
            "Validating: 100%|██████████| 500/500 [00:00<00:00, 524.34it/s]\n",
            "Training Epoch 61: 100%|██████████| 1563/1563 [00:14<00:00, 109.02it/s, training_loss=2.26]\n",
            "Validating: 100%|██████████| 500/500 [00:00<00:00, 520.68it/s]\n",
            "Training Epoch 62: 100%|██████████| 1563/1563 [00:14<00:00, 109.87it/s, training_loss=4.5]\n",
            "Validating: 100%|██████████| 500/500 [00:00<00:00, 527.82it/s]\n",
            "Training Epoch 63: 100%|██████████| 1563/1563 [00:14<00:00, 108.76it/s, training_loss=2.53]\n",
            "Validating: 100%|██████████| 500/500 [00:00<00:00, 519.18it/s]\n",
            "Training Epoch 64: 100%|██████████| 1563/1563 [00:14<00:00, 111.24it/s, training_loss=2.59]\n",
            "Validating: 100%|██████████| 500/500 [00:00<00:00, 524.53it/s]\n",
            "Training Epoch 65: 100%|██████████| 1563/1563 [00:14<00:00, 109.55it/s, training_loss=1.64]\n",
            "Validating: 100%|██████████| 500/500 [00:00<00:00, 524.43it/s]\n",
            "Training Epoch 66: 100%|██████████| 1563/1563 [00:13<00:00, 112.11it/s, training_loss=2.36]\n",
            "Validating: 100%|██████████| 500/500 [00:00<00:00, 553.86it/s]\n",
            "Training Epoch 67: 100%|██████████| 1563/1563 [00:14<00:00, 109.64it/s, training_loss=1.88]\n",
            "Validating: 100%|██████████| 500/500 [00:00<00:00, 503.58it/s]\n",
            "Training Epoch 68: 100%|██████████| 1563/1563 [00:14<00:00, 109.94it/s, training_loss=6.66]\n",
            "Validating: 100%|██████████| 500/500 [00:00<00:00, 547.04it/s]\n",
            "Training Epoch 69: 100%|██████████| 1563/1563 [00:14<00:00, 108.91it/s, training_loss=2.98]\n",
            "Validating: 100%|██████████| 500/500 [00:00<00:00, 509.72it/s]\n",
            "Training Epoch 70: 100%|██████████| 1563/1563 [00:14<00:00, 110.22it/s, training_loss=3.25]\n",
            "Validating: 100%|██████████| 500/500 [00:00<00:00, 532.08it/s]\n",
            "Training Epoch 71: 100%|██████████| 1563/1563 [00:14<00:00, 109.98it/s, training_loss=3.24]\n",
            "Validating: 100%|██████████| 500/500 [00:00<00:00, 520.66it/s]\n",
            "Training Epoch 72: 100%|██████████| 1563/1563 [00:14<00:00, 110.04it/s, training_loss=6.12]\n",
            "Validating: 100%|██████████| 500/500 [00:00<00:00, 505.02it/s]\n",
            "Training Epoch 73: 100%|██████████| 1563/1563 [00:14<00:00, 108.27it/s, training_loss=2.19]\n",
            "Validating: 100%|██████████| 500/500 [00:00<00:00, 512.96it/s]\n",
            "Training Epoch 74: 100%|██████████| 1563/1563 [00:14<00:00, 109.51it/s, training_loss=3.14]\n",
            "Validating: 100%|██████████| 500/500 [00:00<00:00, 526.88it/s]\n",
            "Training Epoch 75: 100%|██████████| 1563/1563 [00:14<00:00, 108.88it/s, training_loss=2.77]\n",
            "Validating: 100%|██████████| 500/500 [00:00<00:00, 500.23it/s]\n",
            "Training Epoch 76: 100%|██████████| 1563/1563 [00:14<00:00, 109.76it/s, training_loss=10]\n",
            "Validating: 100%|██████████| 500/500 [00:00<00:00, 532.91it/s]\n",
            "Training Epoch 77: 100%|██████████| 1563/1563 [00:14<00:00, 109.37it/s, training_loss=1.22]\n",
            "Validating: 100%|██████████| 500/500 [00:01<00:00, 498.29it/s]\n",
            "Training Epoch 78: 100%|██████████| 1563/1563 [00:14<00:00, 108.85it/s, training_loss=1.12]\n",
            "Validating: 100%|██████████| 500/500 [00:00<00:00, 522.24it/s]\n",
            "Training Epoch 79: 100%|██████████| 1563/1563 [00:14<00:00, 109.87it/s, training_loss=2.04]\n",
            "Validating: 100%|██████████| 500/500 [00:01<00:00, 495.50it/s]\n",
            "Training Epoch 80: 100%|██████████| 1563/1563 [00:14<00:00, 109.88it/s, training_loss=7.36]\n",
            "Validating: 100%|██████████| 500/500 [00:00<00:00, 523.71it/s]\n",
            "Training Epoch 81: 100%|██████████| 1563/1563 [00:14<00:00, 107.97it/s, training_loss=0.589]\n",
            "Validating: 100%|██████████| 500/500 [00:00<00:00, 506.42it/s]\n",
            "Training Epoch 82: 100%|██████████| 1563/1563 [00:14<00:00, 110.88it/s, training_loss=6.07]\n",
            "Validating: 100%|██████████| 500/500 [00:00<00:00, 522.13it/s]\n",
            "Training Epoch 83: 100%|██████████| 1563/1563 [00:14<00:00, 110.64it/s, training_loss=4.17]\n",
            "Validating: 100%|██████████| 500/500 [00:00<00:00, 506.08it/s]\n",
            "Training Epoch 84: 100%|██████████| 1563/1563 [00:14<00:00, 109.04it/s, training_loss=1.23]\n",
            "Validating: 100%|██████████| 500/500 [00:00<00:00, 519.00it/s]\n",
            "Training Epoch 85: 100%|██████████| 1563/1563 [00:14<00:00, 110.62it/s, training_loss=3.22]\n",
            "Validating: 100%|██████████| 500/500 [00:00<00:00, 712.12it/s]\n",
            "Training Epoch 86: 100%|██████████| 1563/1563 [00:14<00:00, 111.34it/s, training_loss=3.81]\n",
            "Validating: 100%|██████████| 500/500 [00:00<00:00, 702.90it/s]\n",
            "Training Epoch 87: 100%|██████████| 1563/1563 [00:14<00:00, 111.17it/s, training_loss=6.61]\n",
            "Validating: 100%|██████████| 500/500 [00:00<00:00, 693.03it/s]\n",
            "Training Epoch 88: 100%|██████████| 1563/1563 [00:14<00:00, 110.44it/s, training_loss=6.23]\n",
            "Validating: 100%|██████████| 500/500 [00:00<00:00, 708.53it/s]\n",
            "Training Epoch 89: 100%|██████████| 1563/1563 [00:14<00:00, 109.44it/s, training_loss=3.15]\n",
            "Validating: 100%|██████████| 500/500 [00:00<00:00, 684.74it/s]\n",
            "Training Epoch 90: 100%|██████████| 1563/1563 [00:14<00:00, 110.66it/s, training_loss=3.88]\n",
            "Validating: 100%|██████████| 500/500 [00:00<00:00, 533.23it/s]\n",
            "Training Epoch 91: 100%|██████████| 1563/1563 [00:14<00:00, 109.78it/s, training_loss=1.41]\n",
            "Validating: 100%|██████████| 500/500 [00:00<00:00, 533.83it/s]\n",
            "Training Epoch 92: 100%|██████████| 1563/1563 [00:14<00:00, 108.65it/s, training_loss=5.6]\n",
            "Validating: 100%|██████████| 500/500 [00:00<00:00, 520.78it/s]\n",
            "Training Epoch 93: 100%|██████████| 1563/1563 [00:14<00:00, 108.87it/s, training_loss=2.7]\n",
            "Validating: 100%|██████████| 500/500 [00:00<00:00, 519.99it/s]\n",
            "Training Epoch 94: 100%|██████████| 1563/1563 [00:14<00:00, 108.57it/s, training_loss=4.27]\n",
            "Validating: 100%|██████████| 500/500 [00:00<00:00, 523.77it/s]\n",
            "Training Epoch 95: 100%|██████████| 1563/1563 [00:14<00:00, 108.19it/s, training_loss=6.04]\n",
            "Validating: 100%|██████████| 500/500 [00:00<00:00, 504.81it/s]\n",
            "Training Epoch 96: 100%|██████████| 1563/1563 [00:14<00:00, 108.16it/s, training_loss=3.42]\n",
            "Validating: 100%|██████████| 500/500 [00:00<00:00, 505.20it/s]\n",
            "Training Epoch 97: 100%|██████████| 1563/1563 [00:14<00:00, 109.49it/s, training_loss=1.18]\n",
            "Validating: 100%|██████████| 500/500 [00:00<00:00, 515.78it/s]\n",
            "Training Epoch 98: 100%|██████████| 1563/1563 [00:14<00:00, 110.77it/s, training_loss=5.13]\n",
            "Validating: 100%|██████████| 500/500 [00:00<00:00, 700.66it/s]\n",
            "Training Epoch 99: 100%|██████████| 1563/1563 [00:13<00:00, 111.93it/s, training_loss=1.65]\n",
            "Validating: 100%|██████████| 500/500 [00:00<00:00, 710.28it/s]\n"
          ]
        }
      ],
      "source": [
        "num_epoch = 100\n",
        "avg_val_loss, avg_val_acc, train_losses = train(model, criterion, train_loader, val_loader, [], [], [], num_epoch, lr = lr, bsize = bch_size, start_epoch = 0)"
      ]
    },
    {
      "cell_type": "code",
      "execution_count": null,
      "metadata": {
        "colab": {
          "base_uri": "https://localhost:8080/",
          "height": 482
        },
        "id": "wsj3pj16TPSs",
        "outputId": "173a7d9c-58f0-4f01-afd6-480ed5a40fd7"
      },
      "outputs": [
        {
          "output_type": "execute_result",
          "data": {
            "text/plain": [
              "[<matplotlib.lines.Line2D at 0x7f7c12baedd0>]"
            ]
          },
          "metadata": {},
          "execution_count": 17
        },
        {
          "output_type": "display_data",
          "data": {
            "text/plain": [
              "<Figure size 640x480 with 1 Axes>"
            ],
            "image/png": "[encoded data removed]"
          },
          "metadata": {}
        }
      ],
      "source": [
        "plt.ylabel('training loss')\n",
        "plt.xlabel('epoch number')\n",
        "plt.plot(train_losses, linestyle='-', marker='o')"
      ]
    },
    {
      "cell_type": "code",
      "source": [
        "plt.ylabel('validation loss')\n",
        "plt.xlabel('epoch number')\n",
        "plt.plot(avg_val_loss, linestyle='-', marker='o', color='red')"
      ],
      "metadata": {
        "colab": {
          "base_uri": "https://localhost:8080/",
          "height": 482
        },
        "id": "6im2tkPkAsae",
        "outputId": "35b4f486-3db1-43c3-9df4-8cd9aea7d043"
      },
      "execution_count": null,
      "outputs": [
        {
          "output_type": "execute_result",
          "data": {
            "text/plain": [
              "[<matplotlib.lines.Line2D at 0x7f7c10ac8340>]"
            ]
          },
          "metadata": {},
          "execution_count": 18
        },
        {
          "output_type": "display_data",
          "data": {
            "text/plain": [
              "<Figure size 640x480 with 1 Axes>"
            ],
            "image/png": "[encoded data removed]"
          },
          "metadata": {}
        }
      ]
    },
    {
      "cell_type": "code",
      "source": [
        "PATH = \"CIFAR100epoch_512Features.pth\"\n",
        "torch.save(model.state_dict(), PATH)"
      ],
      "metadata": {
        "id": "TcwobpdnFAtG"
      },
      "execution_count": null,
      "outputs": []
    },
    {
      "cell_type": "code",
      "source": [
        "from google.colab.patches import cv2_imshow\n",
        "from skimage.color import lab2rgb, rgb2lab, rgb2gray\n",
        "img = cifar_data.data[0]\n",
        "scaled = img.astype(\"float32\") / 255.0\n",
        "lab = cv2.cvtColor(scaled, cv2.COLOR_RGB2LAB)\n",
        "\n",
        "l, a, b = cv2.split(lab)\n",
        "a_b = cv2.merge([a, b])\n",
        "print(a_b.shape)\n",
        "print(l.shape)\n",
        "l = np.reshape(l,(32,32,1))\n",
        "# imgab = np.concatenate((l, a_b), axis=2)\n",
        "imgab = cv2.merge([l, a_b])\n",
        "print(imgab.shape)\n",
        "\n",
        "f, axarr = plt.subplots(1, 2)\n",
        "f.set_size_inches(10, 10)\n",
        "\n",
        "axarr[0].imshow(img)\n",
        "axarr[1].imshow(lab2rgb(imgab))\n",
        "axarr[0].axis('off'), axarr[1].axis('off')\n",
        "\n",
        "# cv2_imshow(img)\n",
        "# cv2_imshow(lab2rgb(imgab))"
      ],
      "metadata": {
        "colab": {
          "base_uri": "https://localhost:8080/",
          "height": 458
        },
        "id": "hZQlj7eZh0Vw",
        "outputId": "9640b7d1-be5a-4c9c-e9e7-64a91e521bc8"
      },
      "execution_count": null,
      "outputs": [
        {
          "output_type": "stream",
          "name": "stdout",
          "text": [
            "(32, 32, 2)\n",
            "(32, 32)\n",
            "(32, 32, 3)\n"
          ]
        },
        {
          "output_type": "execute_result",
          "data": {
            "text/plain": [
              "((-0.5, 31.5, 31.5, -0.5), (-0.5, 31.5, 31.5, -0.5))"
            ]
          },
          "metadata": {},
          "execution_count": 20
        },
        {
          "output_type": "display_data",
          "data": {
            "text/plain": [
              "<Figure size 1000x1000 with 2 Axes>"
            ],
            "image/png": "[encoded data removed]"
          },
          "metadata": {}
        }
      ]
    },
    {
      "cell_type": "code",
      "execution_count": null,
      "metadata": {
        "colab": {
          "base_uri": "https://localhost:8080/",
          "height": 829
        },
        "id": "vwwajZvkahrD",
        "outputId": "6f76b8df-4252-4b3b-cfdb-0443768816e1"
      },
      "outputs": [
        {
          "output_type": "display_data",
          "data": {
            "text/plain": [
              "<Figure size 1000x1000 with 9 Axes>"
            ],
            "image/png": "[encoded data removed]"
          },
          "metadata": {}
        }
      ],
      "source": [
        "model = model.to(torch.device('cpu'))\n",
        "predicts = []\n",
        "for i in range(5):\n",
        "  x = full_dataset[i][0][None]\n",
        "  prediction = model(x).squeeze(0)\n",
        "  predicts.append(prediction)\n",
        "\n",
        "f, axarr = plt.subplots(3, 3)\n",
        "f.set_size_inches(10, 10)\n",
        "j = 0\n",
        "\n",
        "for i in range(49500, 49503):\n",
        "  color_image = torch.cat((full_dataset[i][0], predicts[j]), 0).detach().numpy()\n",
        "  color_image = color_image.transpose((1, 2, 0))\n",
        "  color_image = cv2.cvtColor(color_image, cv2.COLOR_LAB2RGB)\n",
        "\n",
        "  ground = torch.cat((full_dataset[i][0], full_dataset[i][1]), 0).numpy()\n",
        "  ground = ground.transpose((1, 2, 0))\n",
        "  ground = cv2.cvtColor(ground, cv2.COLOR_LAB2RGB)\n",
        "\n",
        "  axarr[j][0].imshow(full_dataset[i][0].squeeze().numpy(), cmap='gray')\n",
        "  axarr[j][1].imshow(color_image)\n",
        "  axarr[j][2].imshow(ground)\n",
        "  # axarr[j][3].imshow(cifar_data.data[i])\n",
        "  axarr[j][0].axis('off'), axarr[j][1].axis('off'), axarr[j][2].axis('off')#, axarr[j][3].axis('off')\n",
        "  axarr[j][0].set_title('input'), axarr[j][1].set_title('prediction'), axarr[j][2].set_title('ground')#, axarr[j][3].set_title('ground')\n",
        "  j += 1\n",
        "plt.show()"
      ]
    },
    {
      "cell_type": "code",
      "source": [],
      "metadata": {
        "id": "lxDS33ICbq7J"
      },
      "execution_count": null,
      "outputs": []
    }
  ],
  "metadata": {
    "accelerator": "GPU",
    "colab": {
      "provenance": [],
      "gpuType": "T4"
    },
    "gpuClass": "standard",
    "kernelspec": {
      "display_name": "Python 3",
      "name": "python3"
    },
    "language_info": {
      "name": "python"
    }
  },
  "nbformat": 4,
  "nbformat_minor": 0
}